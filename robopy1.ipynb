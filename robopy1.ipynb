{
 "cells": [
  {
   "cell_type": "markdown",
   "id": "ec7b6470-7007-4974-bcc8-71703db19977",
   "metadata": {
    "id": "ec7b6470-7007-4974-bcc8-71703db19977"
   },
   "source": [
    "# Representando posicion y la orientacion "
   ]
  },
  {
   "cell_type": "code",
   "execution_count": null,
   "id": "60d94e2d-68d3-4e0c-b4c4-2233cc7304f9",
   "metadata": {
    "id": "60d94e2d-68d3-4e0c-b4c4-2233cc7304f9"
   },
   "outputs": [],
   "source": [
    "#importamos las librerias basicas\n",
    "import numpy as np\n",
    "import math\n",
    "import matplotlib.pyplot as plt"
   ]
  },
  {
   "cell_type": "markdown",
   "id": "6fe37997-ddce-4e0c-9da9-baa1c11655fb",
   "metadata": {
    "id": "6fe37997-ddce-4e0c-9da9-baa1c11655fb",
    "tags": []
   },
   "source": [
    "## Posicion\n",
    "Para representar la posicion utilizamos vectores. Un vector representa el desplazamiento de un punto con respecto a algun sistema de coordenadas. \n",
    "\n",
    "Un sistema de coordenadas muy utilizado es el cartesiano con tres ejes ortogonales que pertenecen al espacio euclidiano SE.\n",
    "\n",
    "\n",
    "$$ \\overrightarrow{\\mathbf{P}} = a_x\\hat{\\mathbf{i}} + a_y\\hat{\\mathbf{j}} + a_z\\hat{\\mathbf{k}} $$  \n",
    "\n",
    "<figure><center><img src=\"https://github.com/mariosoul10/pyRoboto/blob/main/imagenes/vector.png?raw=1\" width=300/><figcaption><i>Figura. Representacion de un vector en un sistema coordenado.</i></center></figcaption></center></figure>\n"
   ]
  },
  {
   "cell_type": "markdown",
   "id": "86b543f8-508d-426f-9b46-adda78fc755f",
   "metadata": {
    "id": "86b543f8-508d-426f-9b46-adda78fc755f"
   },
   "source": [
    "## Orientacion\n",
    "Sin embargo un objeto real necesita orientacion ademas de la posicion para ser descrito correctamente. Para representarlo colocamos un eje coordenado al objeto, entonces podemos describir la posicion y orientacion del eje coordenado del objeto con respecto a un sistema coordenado de referencia. Para distinguirlos les ponemos etiquetas, en este caso el sistema coordenado del objeto es {B} y el sistema de referencia es {A}.\n",
    "\n",
    "<figure><center><img src=\"https://github.com/mariosoul10/pyRoboto/blob/main/imagenes/sistemacoordenado.png?raw=1\" width=300/><figcaption><i>Figura. .</i></center></figcaption></center></figure>\n",
    "\n",
    "Podemos imaginar que tomamos {A} y aplicamos un desplazamiento y una rotacion para transformarlo en {B}.\n"
   ]
  },
  {
   "cell_type": "markdown",
   "id": "a575cdc3-7a6c-481f-a992-d72cc843bac9",
   "metadata": {
    "id": "a575cdc3-7a6c-481f-a992-d72cc843bac9",
    "tags": []
   },
   "source": [
    "## Trabajando en dos dimensiones\n",
    "\n",
    "En el caso de dos dimensiones utilizamos un sistema cartesiano para representar un punto con sus ejes de coordenadas (x, y). \n",
    "\n",
    "\n"
   ]
  },
  {
   "cell_type": "markdown",
   "id": "ZcDirTNSU7KJ",
   "metadata": {
    "id": "ZcDirTNSU7KJ"
   },
   "source": [
    "aljslfdjasdf"
   ]
  }
 ],
 "metadata": {
  "colab": {
   "provenance": []
  },
  "kernelspec": {
   "display_name": "Python 3 (ipykernel)",
   "language": "python",
   "name": "python3"
  },
  "language_info": {
   "codemirror_mode": {
    "name": "ipython",
    "version": 3
   },
   "file_extension": ".py",
   "mimetype": "text/x-python",
   "name": "python",
   "nbconvert_exporter": "python",
   "pygments_lexer": "ipython3",
   "version": "3.10.9"
  }
 },
 "nbformat": 4,
 "nbformat_minor": 5
}

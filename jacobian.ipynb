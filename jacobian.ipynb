{
 "cells": [
  {
   "cell_type": "code",
   "execution_count": null,
   "id": "817b5d31-2a28-4cb3-b7a0-474b6f4eb52d",
   "metadata": {},
   "outputs": [],
   "source": [
    "Jacobian\n",
    "\n",
    "\n",
    "Finally, the Jacobian matrix can also be used to compute a linear approximation of any function f around a point p:\n",
    "https://www.algebrapracticeproblems.com/jacobian-matrix-determinant/"
   ]
  }
 ],
 "metadata": {
  "kernelspec": {
   "display_name": "Python 3 (ipykernel)",
   "language": "python",
   "name": "python3"
  },
  "language_info": {
   "codemirror_mode": {
    "name": "ipython",
    "version": 3
   },
   "file_extension": ".py",
   "mimetype": "text/x-python",
   "name": "python",
   "nbconvert_exporter": "python",
   "pygments_lexer": "ipython3",
   "version": "3.10.9"
  }
 },
 "nbformat": 4,
 "nbformat_minor": 5
}

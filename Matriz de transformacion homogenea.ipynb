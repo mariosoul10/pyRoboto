{
 "cells": [
  {
   "cell_type": "markdown",
   "id": "e56100de-b4a2-4d64-b697-a1f2e371baae",
   "metadata": {},
   "source": [
    "# Descripcion completa de la Pose en dos dimensiones\n",
    "\n",
    "Podemos utilizar vectores para describir el desplazamiento de un sistema coordenado, sin embargo para la rotacion necesitaremos una matriz de rotacion.\n",
    "\n",
    "## La matriz de rotacion\n",
    "\n",
    "<figure><center><img src=\"imagenes/geometria basica/rotacion.PNG\" width=300/><figcaption><i>Figura. .</i></center></figcaption></center></figure>\n",
    "\n",
    "Si tomamos el sistema coordenado {B} y lo rotamos un angulo $\\theta$, con respecto al sistema de referencia {V}. Los ejes $\\hat x_B$ y $\\hat y_B$ pueden expresarse utilizando el teorema de pitagoras como:\n",
    "\n",
    "$$\\hat x_B^2 = cos\\theta^2 + sin\\theta^2$$\n",
    "$$\\hat y_B^2 = -sin\\theta^2 + cos\\theta^2$$\n",
    "\n",
    "Si ahora suponemos vectores unitarios a lo largo de los ejes $\\hat x_B$ y $\\hat y_B$, entonces:\n",
    "\n",
    "$$1^2 = cos\\theta^2 + sin\\theta^2$$\n",
    "$$1^2 = -sin\\theta^2 + cos\\theta^2$$\n",
    "\n",
    "$$1 = cos\\theta + sin\\theta$$\n",
    "$$1 = -sin\\theta + cos\\theta$$\n",
    "\n",
    "Estos vectores unitarios eson los componentes de nuestra matriz de rotacion $R$.\n",
    "$$ R = \\begin{bmatrix}\n",
    "cos\\theta & -sin\\theta  \\\\\n",
    "sin\\theta &  cos\\theta\\\\\n",
    "\\end{bmatrix}$$\n",
    "\n",
    "Esta describe como los puntos son transformados cuando rotamos {B} a {V} y se escribe como $ ^VR_B$.\n",
    "\n",
    "Sus propiedades son:\n",
    "* Es una matriz ortogonal ya que sus columnas son unitarias y ortogonales\n",
    "* Pertenecen al grupo especial ortogona de dimension 2 $R\\ni SO(2)$\n",
    "* Su determinante es uno.\n",
    "* La inversa es la traspuesta, $R^-1 = R^T$\n",
    "\n",
    "## La matriz de transformacion homogenea\n",
    "\n",
    "\n",
    " "
   ]
  },
  {
   "cell_type": "code",
   "execution_count": null,
   "id": "30fa6a62-b0bc-41a3-9a73-159f764e99c3",
   "metadata": {},
   "outputs": [],
   "source": []
  }
 ],
 "metadata": {
  "kernelspec": {
   "display_name": "Python 3 (ipykernel)",
   "language": "python",
   "name": "python3"
  },
  "language_info": {
   "codemirror_mode": {
    "name": "ipython",
    "version": 3
   },
   "file_extension": ".py",
   "mimetype": "text/x-python",
   "name": "python",
   "nbconvert_exporter": "python",
   "pygments_lexer": "ipython3",
   "version": "3.10.9"
  }
 },
 "nbformat": 4,
 "nbformat_minor": 5
}

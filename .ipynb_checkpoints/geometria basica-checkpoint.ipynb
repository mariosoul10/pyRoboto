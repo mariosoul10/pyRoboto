{
 "cells": [
  {
   "cell_type": "markdown",
   "metadata": {
    "id": "NmmYV9isVpbo"
   },
   "source": [
    "\n",
    "## **Euclides de Alejandria**\n",
    "\n",
    "La geometria mas comun es la Euclidiana, descrita en el texto \"Los elementos\" por Euclides de Alejandria, hace unos 300 años antes de cristo. Esta basada en unos axiomas, de los cuales se pueden derivar los principios de la geometria usando lineas, triangulos y circulos. \n",
    "\n",
    "En la geometria de Euclides tenemos letras, lineas paralelas, angulos rectos. Sin embargo. no utilizamos numeros ni sistemas de coordenadas. De eso se encargaria un filosofo del siglo XVII.\n",
    "\n",
    "<figure><center><img src=\"imagenes/Scuola_di_atene_23.jpg\" width=200/><figcaption><i>Figura. .</i></center></figcaption></center></figure>\n",
    "\n",
    "## **Cogito, ergo sum**\n",
    "\n",
    "El responsable de añadir el algebra a la geometria euclidiana fue Rene Descartes, un famoso filosofo, matematico que incluso fue mercenario de joven. Es considerado como el padre de la filosofia moderna y particularmente famoso por la frase \"Pienso, por lo tanto existo\". \n",
    "\n",
    "Una mañana que estaba acostado descansando en su cama observo una mosca que se paro en la pared. Entoces, se le ocurrio que era posible describir la posicion de la mosca en la pared utilizando solo dos numeros. Descubriendo así la base de los sistemas cartesianos, en donde describimos la posicion de un punto en el plano utilizando dos coordenadas. \n",
    "\n",
    "<figure><center><img src=\"imagenes/moscasDescartes.jpg\" width=200/><figcaption><i>Figura. .</i></center></figcaption></center></figure>"
   ]
  },
  {
   "cell_type": "markdown",
   "metadata": {},
   "source": [
    "## **Representar una mosca en el sistema cartesiano**\n",
    "\n",
    "En un sistema cartesiano de dos dimensiones tenemos un par de ejes (lineas compuestas por numeros reales) que se intersectan entre si en un punto llamado el origen. Estas lineas son conocidas como el eje x y el eje y. \n",
    "\n",
    "Podemos describir una mosca $M$ en este sistema cartesiano si dibujamos una linea recta hasta el eje $x$, y la distancia hasta el origen será la cantidad $a$. Ahora dibujamos una linea recta hasta el eje $y$, la distancia hasta el origen sera la cantidad $b$. Entonces, la ubicacion de la mosca $M$ puede ser descrita utilizando este par de numeros $M = (a, b)$. \n",
    "\n",
    "Generalizando, una ubicacion en el plano cartesiano es un punto y es descrito utilizando dos numeros llamados coordenadas. Por ejemplo, si las coordenadas son $a = 2$ y $b = 3$, la ubicacion seria el punto $M = (2, 3)$.\n",
    "\n",
    "<figure><center><img src=\"imagenes/punto.png\" width=200/><figcaption><i>Figura. .</i></center></figcaption></center></figure>\n",
    "\n",
    "Un punto solo representa la ubicacion, no podemos multiplicar un punto o sumar un punto. Para representar orientacion, necesitamos introducir el concepto de vectores y de sistemas de referencia.\n",
    "\n",
    "## **Que es un vector**\n",
    " \n",
    "Un vector es la diferencia entre dos puntos, y nos indica como llegar de un punto inicial a un punto final. Podemos imaginar un vector como una flecha que va desde el origen del sistema coordenado hasta un punto de interes. Mientras que los puntos suelen ser representarse con letras mayusculas $P$, para los vectores utilizamos letras minusculas y le ademas le agregamos una flecha encima $\\vec{v} $, esto es por que los vectores tambien representan una direccion.\n",
    "\n",
    "Un vector tiene dos componentes, un componente horizontal de magnitud a y un componente vertical de magnitud b. Para poder sumar, restar y multiplicar vectores, lo representaremos utilizando una matriz de 2 filas y una columna.\n",
    "\n",
    "$$\\vec{v} = \\begin{bmatrix}a\\\\b\\end{bmatrix}$$\n",
    "\n",
    "Otra forma de expresar un vector es en terminos de los vectores unitario de longitud uno $\\hat{x}$ y $\\hat{y}$. Asi, el vector puede ser descrito con dos componentes, la distancia a multiplicada por el vector unitario $\\vec{x}$, mas la distancia b multiplicada por el vector unitario $\\vec{y}$. \n",
    "\n",
    "\n",
    "$$\\vec{v} = a\\hat{x} + b\\hat{y}$$ \n"
   ]
  },
  {
   "cell_type": "code",
   "execution_count": null,
   "metadata": {},
   "outputs": [],
   "source": []
  }
 ],
 "metadata": {
  "colab": {
   "authorship_tag": "ABX9TyMScuKEMTZVeP8PKJZ3IF6e",
   "include_colab_link": true,
   "provenance": []
  },
  "kernelspec": {
   "display_name": "Python 3 (ipykernel)",
   "language": "python",
   "name": "python3"
  },
  "language_info": {
   "codemirror_mode": {
    "name": "ipython",
    "version": 3
   },
   "file_extension": ".py",
   "mimetype": "text/x-python",
   "name": "python",
   "nbconvert_exporter": "python",
   "pygments_lexer": "ipython3",
   "version": "3.10.9"
  }
 },
 "nbformat": 4,
 "nbformat_minor": 4
}

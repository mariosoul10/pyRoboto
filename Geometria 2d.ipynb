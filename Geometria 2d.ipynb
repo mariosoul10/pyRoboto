{
  "nbformat": 4,
  "nbformat_minor": 0,
  "metadata": {
    "colab": {
      "provenance": [],
      "authorship_tag": "ABX9TyOQ17E0YzjxycDGiGvDhgVg",
      "include_colab_link": true
    },
    "kernelspec": {
      "name": "python3",
      "display_name": "Python 3"
    },
    "language_info": {
      "name": "python"
    }
  },
  "cells": [
    {
      "cell_type": "markdown",
      "metadata": {
        "id": "view-in-github",
        "colab_type": "text"
      },
      "source": [
        "<a href=\"https://colab.research.google.com/github/mariosoul10/pyRoboto/blob/main/Geometria%202d.ipynb\" target=\"_parent\"><img src=\"https://colab.research.google.com/assets/colab-badge.svg\" alt=\"Open In Colab\"/></a>"
      ]
    },
    {
      "cell_type": "code",
      "execution_count": null,
      "metadata": {
        "id": "xxvVQMdpVYkd"
      },
      "outputs": [],
      "source": []
    },
    {
      "cell_type": "markdown",
      "source": [
        "\n",
        "## **Euclides de Alejandria**\n",
        "\n",
        "La geometria mas comun es la Euclidiana, descrita en el texto \"Los elementos\" por Euclides de Alejandria, en Egipto hace unos 300 años antes de cristo. Esta basada en unos axiomas, de los cuales se pueden derivar los principios de la geometria usando lineas, triangulos y circulos. Sin embargo no utiliza numeros ni sistemas de coordenadas. \n",
        "\n",
        "<figure><center><img src=\"imagenes/Scuola_di_atene_23.jpg\" width=300/><figcaption><i>Figura. Representacion de un vector en un sistema coordenado.</i></center></figcaption></center></figure>\n",
        "\n",
        "Cogito, ergo sum\n",
        "El responsable de añadir el algebra a la geometria euclidiana fue Rene  Descartes, un famoso filosofo, matematico que incluso fue mercenario de joven. Es considerado como el padre de la filosofia moderna y particularmente famoso por la frase \"Pienso, por lo tanto existo\". \n",
        "\n",
        "Una mañana que estaba acostado descansando en su cama observo una mosca que se paro en la pared. Entoces, se le ocurrio que era posible describir la posicion de la mosca en la pared utilizando solo dos numeros. Descubriendo así la base de los sistemas cartesianos, en donde describimos la posicion de un punto en el plano utilizando dos coordenadas. "
      ],
      "metadata": {
        "id": "NmmYV9isVpbo"
      }
    }
  ]
}
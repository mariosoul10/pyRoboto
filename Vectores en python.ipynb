{
 "cells": [
  {
   "cell_type": "markdown",
   "metadata": {},
   "source": [
    "# Representar y graficar vectores en python \n",
    "\n",
    "## Numpy \n",
    "Podemos crear un vector en python utilizaremos la libreria Numpy, que da soporte a la creacion de vectores y matrices multidimensionales. Numpy incorpora una clase de objetos llamados arrays que permite representar colecciones de datos de un mismo tipo en varias dimensiones (una matriz).\n",
    "\n",
    "Para crear un array se utiliza la siguiente función de NumPy:`numpy.array(lista)`. Esta crea un array a partir de la lista. El número de dimensiones del array dependerá de las listas anidadas que pasemos como argumento.\n",
    "\n",
    "* La funcion array necesariamente toma como argumento una lista, asi que comenzamos con un par de corchetes `numpy.array([ ])`. \n",
    "* Dentro de estos corchetes podemos crear las filas de nuestra matriz utilizando corchetes \"[ ]\" y dentro las columnas separadas por comas. Por ejemplo una matriz de tres filas y dos columnas quedaria como: `numpy.array([ [1, 2], [1, 2], [1, 2]])`.\n",
    "\n",
    "<figure><center><img src=\"imagenes/geometria basica/nparray2.png\" width=500/><figcaption><i>Figura. Arrays de Numpy.</i></figcaption></center></figure>\n",
    "\n",
    "    \n",
    "Ahora vamos a declarar el vector $\\vec{v} = a\\hat{x} + b\\hat{y}$ como una matriz de dos filas, una columna.\n",
    "    \n",
    "$$\\vec{v} = \\begin{bmatrix}a\\\\b\\end{bmatrix}$$"
   ]
  },
  {
   "cell_type": "code",
   "execution_count": 1,
   "metadata": {},
   "outputs": [
    {
     "name": "stdout",
     "output_type": "stream",
     "text": [
      "v = \n",
      "[[2]\n",
      " [3]]\n"
     ]
    }
   ],
   "source": [
    "#Importamos la libreria\n",
    "import numpy\n",
    "\n",
    "# Creamos un vector v con componentes a, b\n",
    "a = 2\n",
    "b = 3\n",
    "v = numpy.array([[a], \n",
    "                 [b]])\n",
    "\n",
    "\n",
    "#imprimimos en pantalla el vector\n",
    "print ('v = ')\n",
    "print (v)"
   ]
  },
  {
   "cell_type": "markdown",
   "metadata": {},
   "source": [
    "### Indexing\n",
    "\n",
    "Para acceder a los valores de nuestro vector escribimos la fila y la columna que queremos acceder entre corchetes: `vector [fila] [columna]`. En este caso de dos dimensiones solo utilizamos la fila."
   ]
  },
  {
   "cell_type": "code",
   "execution_count": 2,
   "metadata": {},
   "outputs": [
    {
     "name": "stdout",
     "output_type": "stream",
     "text": [
      "Las coordenadas en el eje x de el vector v, es: \n",
      "[2]\n",
      "Las coordenadas en el eje y de el vector v, es: \n",
      "[3]\n"
     ]
    }
   ],
   "source": [
    "print('Las coordenadas en el eje x de el vector v, es: ')\n",
    "print(v[0])\n",
    "print('Las coordenadas en el eje y de el vector v, es: ')\n",
    "print(v[1])"
   ]
  },
  {
   "cell_type": "markdown",
   "metadata": {},
   "source": [
    "## Matplotlib\n",
    "\n",
    "Matplotlib fue desarrollada por John Hunter en 2002. Lo que buscaba era imitar las funcionalidades de creación gráfica que tenía Matlab con Python.\n",
    "\n",
    "Pyplot dentro de Matplotlib te permite utilizar una interfaz muy parecida a la de Matlab y es la forma mas utilizada. Por eso casi siempre comenzamos importando pyplot `import matplotlib.pyplot as plt`.\n",
    "\n",
    "Matplotlib grafica la informacion en una **figura** (una ventana de Windows, un widget de Jupyter, etc.), las cuales contiene uno o mas **ejes (Axes)**, estas son las areas en donde podemos graficar en terminos de las coordenadas $x$ y $y$. La forma mas facil de crear una figura y un eje es utilizando la funcion `pyplot.subplots ()`. \n",
    "\n",
    "Para graficar utilizamos la funcion plot que toma como argumento una lista con las coordenas en el \"eje x\", y otra lista con las coordenadas en el \"eje y\". Por ejemplo si llamamos a nuestro **eje** como ax, entonces podemos usar la funcion plot de la siguiente manera `ax.plot([lista x], [lista y])`, para graficar los datos en el eje ax.\n",
    "\n",
    "En el caso de nuestro vector que tiene un origen en (0, 0) la lista x que pasaremos como argumento a la funcion plot sera `[origen, x]` y la lista y sera `[origen, y]`."
   ]
  },
  {
   "cell_type": "code",
   "execution_count": 3,
   "metadata": {},
   "outputs": [
    {
     "data": {
      "image/png": "[encoded data removed]",
      "text/plain": [
       "<Figure size 640x480 with 1 Axes>"
      ]
     },
     "metadata": {},
     "output_type": "display_data"
    }
   ],
   "source": [
    "# Importamos pyplot de la libreria Matplotlib como plt y numpy\n",
    "import matplotlib.pyplot as plt\n",
    "import numpy\n",
    "# Creamos la figura y el eje sobre el que graficaremos nuestro vector.\n",
    "fig, ax = plt.subplots() \n",
    "# Le ponemos etiquetas a los ejes x y y\n",
    "ax.set_xlabel('eje x')\n",
    "ax.set_ylabel('eje y')\n",
    "# Creamos un vector v con componentes 2, 3\n",
    "v = numpy.array([[2], \n",
    "                 [3]])\n",
    "# Creamos el punto de origen en (0) como una lista\n",
    "origen = [0]\n",
    "# El componente x de nuestro vector v puede obtenerse con v[0] \n",
    "x = [origen, v[0]]\n",
    "# El componente y de nuestro vector v puede obtenerse con v[1] \n",
    "y = [origen, v[1]]\n",
    "# Graficamos en ax, pasamos las listas x e y como argumentos.\n",
    "ax.plot(x, y, color = 'r', marker = 'o')\n",
    "plt.show()"
   ]
  },
  {
   "cell_type": "code",
   "execution_count": null,
   "metadata": {},
   "outputs": [],
   "source": []
  }
 ],
 "metadata": {
  "colab": {
   "authorship_tag": "ABX9TyMScuKEMTZVeP8PKJZ3IF6e",
   "include_colab_link": true,
   "provenance": []
  },
  "kernelspec": {
   "display_name": "Python 3 (ipykernel)",
   "language": "python",
   "name": "python3"
  },
  "language_info": {
   "codemirror_mode": {
    "name": "ipython",
    "version": 3
   },
   "file_extension": ".py",
   "mimetype": "text/x-python",
   "name": "python",
   "nbconvert_exporter": "python",
   "pygments_lexer": "ipython3",
   "version": "3.10.9"
  }
 },
 "nbformat": 4,
 "nbformat_minor": 4
}

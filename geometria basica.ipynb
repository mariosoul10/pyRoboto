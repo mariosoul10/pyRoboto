{
 "cells": [
  {
   "cell_type": "markdown",
   "metadata": {
    "id": "NmmYV9isVpbo"
   },
   "source": [
    "\n",
    "## **Euclides de Alejandria**\n",
    "\n",
    "La geometria mas comun es la Euclidiana, descrita en el texto \"Los elementos\" por Euclides de Alejandria, hace unos 300 años antes de cristo. Esta basada en unos axiomas, de los cuales se pueden derivar los principios de la geometria usando lineas, triangulos y circulos. \n",
    "\n",
    "En la geometria de Euclides tenemos letras, lineas paralelas, angulos rectos. Sin embargo. no utilizamos numeros ni sistemas de coordenadas. De eso se encargaria un filosofo del siglo XVII.\n",
    "\n",
    "<figure><center><img src=\"https://github.com/mariosoul10/pyRoboto/blob/main/imagenes/Scuola_di_atene_23.jpg?raw=1\" width=300/><figcaption><i>Figura. Euclides de Alejandria.</i></center></figcaption></center></figure>\n",
    "\n",
    "## **Cogito, ergo sum**\n",
    "\n",
    "El responsable de añadir el algebra a la geometria euclidiana fue Rene Descartes, un famoso filosofo, matematico que incluso fue mercenario de joven. Es considerado como el padre de la filosofia moderna y particularmente famoso por la frase \"Pienso, por lo tanto existo\". \n",
    "\n",
    "Una mañana que estaba acostado descansando en su cama observo una mosca que se paro en la pared. Entoces, se le ocurrio que era posible describir la posicion de la mosca en la pared utilizando solo dos numeros. Descubriendo así la base de los sistemas cartesianos, en donde describimos la posicion de un punto en el plano utilizando dos coordenadas. \n",
    "\n",
    "<figure><center><img src=\"https://github.com/mariosoul10/pyRoboto/blob/main/imagenes/Scuola_di_atene_23.jpg?raw=1\" width=300/><figcaption><i>Figura. Euclides de Alejandria.</i></center></figcaption></center></figure>"
   ]
  }
 ],
 "metadata": {
  "colab": {
   "authorship_tag": "ABX9TyMScuKEMTZVeP8PKJZ3IF6e",
   "include_colab_link": true,
   "provenance": []
  },
  "kernelspec": {
   "display_name": "Python 3 (ipykernel)",
   "language": "python",
   "name": "python3"
  },
  "language_info": {
   "codemirror_mode": {
    "name": "ipython",
    "version": 3
   },
   "file_extension": ".py",
   "mimetype": "text/x-python",
   "name": "python",
   "nbconvert_exporter": "python",
   "pygments_lexer": "ipython3",
   "version": "3.10.9"
  }
 },
 "nbformat": 4,
 "nbformat_minor": 4
}

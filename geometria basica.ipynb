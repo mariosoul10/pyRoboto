{
 "cells": [
  {
   "cell_type": "markdown",
   "metadata": {
    "id": "NmmYV9isVpbo"
   },
   "source": [
    "\n",
    "## **Euclides de Alejandria**\n",
    "\n",
    "La geometria mas comun es la Euclidiana, descrita en el texto \"Los elementos\" por Euclides de Alejandria, hace unos 300 años antes de cristo. Esta basada en unos axiomas, de los cuales se pueden derivar los principios de la geometria usando lineas, triangulos y circulos. \n",
    "\n",
    "En la geometria de Euclides tenemos letras, lineas paralelas, angulos rectos. Sin embargo. no utilizamos numeros ni sistemas de coordenadas. De eso se encargaria Descartes, un filosofo del siglo XVII.\n",
    "\n",
    "<figure><center><img src=\"imagenes/Scuola_di_atene_23.jpg\" width=200/><figcaption><i>Figura. .</i></center></figcaption></center></figure>\n",
    "\n",
    "## **Cogito, ergo sum**\n",
    "\n",
    "El responsable de añadir el algebra a la geometria euclidiana fue Rene Descartes, un famoso filosofo, matematico que incluso fue mercenario de joven. Es considerado como el padre de la filosofia moderna y particularmente famoso por la frase \"Pienso, por lo tanto existo\". \n",
    "\n",
    "Una mañana que estaba acostado descansando en su cama observo una mosca que se paro en la pared. Entoces, se le ocurrio que era posible describir la posicion de la mosca en la pared utilizando solo dos numeros. Descubriendo así la base de los sistemas cartesianos, en donde describimos la posicion de un punto en el plano utilizando dos coordenadas. \n",
    "\n",
    "<figure><center><img src=\"imagenes/moscasDescartes.jpg\" width=200/><figcaption><i>Figura. .</i></center></figcaption></center></figure>"
   ]
  },
  {
   "cell_type": "markdown",
   "metadata": {},
   "source": [
    "## **Representar una mosca en el sistema cartesiano**\n",
    "\n",
    "En un sistema cartesiano de dos dimensiones tenemos un par de ejes (lineas compuestas por numeros reales) que se intersectan entre si en un punto llamado el origen. Estas lineas son conocidas como el eje x y el eje y. \n",
    "\n",
    "Podemos describir una mosca $M$ en este sistema cartesiano si dibujamos una linea recta hasta el eje $x$, y la distancia hasta el origen será la cantidad $a$. Ahora dibujamos una linea recta hasta el eje $y$, la distancia hasta el origen sera la cantidad $b$. Entonces, la ubicacion de la mosca $M$ puede ser descrita utilizando este par de numeros $M = (a, b)$. \n",
    "\n",
    "Generalizando, una ubicacion en el plano cartesiano es un punto y es descrito utilizando dos numeros llamados coordenadas. Por ejemplo, si las coordenadas son $a = 2$ y $b = 3$, la ubicacion seria el punto $M = (2, 3)$.\n",
    "\n",
    "<figure><center><img src=\"imagenes/punto.png\" width=200/><figcaption><i>Figura. .</i></center></figcaption></center></figure>\n",
    "\n",
    "Un punto solo representa la ubicacion, no podemos multiplicar un punto o sumar un punto. Para representar orientacion, necesitamos introducir el concepto de vectores y de sistemas de referencia.\n",
    "\n",
    "## **Que es un vector**\n",
    " \n",
    "Un vector es la diferencia entre dos puntos, y nos indica como llegar de un punto inicial a un punto final. Podemos imaginar un vector como una flecha que va desde el origen del sistema coordenado hasta un punto de interes. Mientras que los puntos suelen ser representarse con letras mayusculas $P$, para los vectores utilizamos letras minusculas y le ademas le agregamos una flecha encima $\\vec{v} $, esto es por que los vectores tambien representan una direccion.\n",
    "\n",
    "Un vector tiene dos componentes, un componente horizontal de magnitud a y un componente vertical de magnitud b. Para poder sumar, restar y multiplicar vectores, lo representaremos utilizando una matriz de 2 filas y una columna.\n",
    "\n",
    "$$\\vec{v} = \\begin{bmatrix}a\\\\b\\end{bmatrix}$$\n",
    "\n",
    "Otra forma de expresar un vector es en terminos de los vectores unitario de longitud uno $\\hat{x}$ y $\\hat{y}$. Asi, el vector puede ser descrito con dos componentes, la distancia a multiplicada por el vector unitario $\\vec{x}$, mas la distancia b multiplicada por el vector unitario $\\vec{y}$. \n",
    "\n",
    "\n",
    "$$\\vec{v} = a\\hat{x} + b\\hat{y}$$ \n",
    "\n",
    "Donde $\\hat {i} = \\begin{bmatrix}1\\\\0\\end{bmatrix}$ y $\\hat {j} = \\begin{bmatrix}0\\\\1\\end{bmatrix}$\n"
   ]
  },
  {
   "cell_type": "markdown",
   "metadata": {},
   "source": [
    "## Representar y graficar los vectores unitarios en python \n",
    "\n",
    "La funcion array de la libreria numpy nos permite crear matrices. Podemos crear un vector si lo representamos como una matriz de dos filas y una columna. \n",
    "\n",
    "La funcion array necesariamente toma como argumento una lista, asi que comenzamos con un par de corchetes \"[]\". Dentro de estos corchetes podemos crear las filas de nuestra matriz utilizando corchetes \"[]\" y las columnas separadas por comas. \n",
    "\n"
   ]
  },
  {
   "cell_type": "code",
   "execution_count": 14,
   "metadata": {},
   "outputs": [
    {
     "name": "stdout",
     "output_type": "stream",
     "text": [
      "i = \n",
      "[[1]\n",
      " [0]]\n",
      "j = \n",
      "[[0]\n",
      " [1]]\n"
     ]
    }
   ],
   "source": [
    "#Importamos la libreria\n",
    "import numpy\n",
    "\n",
    "# Creamos dos vectores unitario i, j con la funcion array.\n",
    "i = numpy.array([[1], [0]])\n",
    "j = numpy.array([[0], [1]])\n",
    "\n",
    "#imprimimos en pantalla el vector\n",
    "print ('i = ')\n",
    "print (i)\n",
    "print ('j = ')\n",
    "print (j)"
   ]
  },
  {
   "cell_type": "markdown",
   "metadata": {},
   "source": [
    "Para acceder a los valores de nuestro vector utilizamos una gramatica conocida como indexing. Escribimos la fila y la columna que queremos acceder entre corchetes: vector[fila][columna]."
   ]
  },
  {
   "cell_type": "code",
   "execution_count": 13,
   "metadata": {},
   "outputs": [
    {
     "name": "stdout",
     "output_type": "stream",
     "text": [
      "Las coordenadas en el eje x de el vector i, es: \n",
      "1\n",
      "Las coordenadas en el eje y de el vector i, es: \n",
      "0\n"
     ]
    }
   ],
   "source": [
    "print('Las coordenadas en el eje x de el vector i, es: ')\n",
    "print(i[0][0])\n",
    "print('Las coordenadas en el eje y de el vector i, es: ')\n",
    "print(i[1][0])"
   ]
  },
  {
   "cell_type": "markdown",
   "metadata": {},
   "source": [
    "## Graficando los vectores unitarios en python \n",
    "Ahora podemos graficar estos vectores usando la libreria matplotlib. Para graficar utilizamos la funcion plot que toma como argumento una lista con las coordenas en el \"eje x\" a graficar, y otra lista con las coordenadas en el \"eje y\" a graficar. \n",
    "\n",
    "Ya que todos los vectores deben tener un origen, el de estos esdebe tener un origen asi que tenemos que colocar las coordenadas del origen [0][0]. Asi, quedaria como plot ([[origen], [x]], [[origen], [y]])"
   ]
  },
  {
   "cell_type": "code",
   "execution_count": 25,
   "metadata": {},
   "outputs": [
    {
     "data": {
      "image/png": "[encoded data removed]",
      "text/plain": [
       "<Figure size 640x480 with 1 Axes>"
      ]
     },
     "metadata": {},
     "output_type": "display_data"
    }
   ],
   "source": [
    "import matplotlib.pyplot as plt\n",
    "fig, ax = plt.subplots() \n",
    "\n",
    "# Creamos una lista con las coordenadas del vector unitario i.\n",
    "origen = [0][0]\n",
    "x = [origen, i[0][0]]\n",
    "y = [origen, i[1][0]]\n",
    "ax.plot(x, y, color = 'r', marker = 'o')\n",
    "\n",
    "# Creamos una lista con las coordenadas del vector unitario j.\n",
    "x = [origen, j[0][0]]\n",
    "y = [origen, j[1][0]]\n",
    "ax.plot(x, y, color = 'r', marker = 'o')\n",
    "plt.show()"
   ]
  },
  {
   "cell_type": "markdown",
   "metadata": {},
   "source": [
    "## Multiplicar vectores en python\n",
    "\n",
    "Para multiplicar vectores podemos utilizar la funcion dot de la libreria numpy. Ya que un vector es "
   ]
  },
  {
   "cell_type": "code",
   "execution_count": null,
   "metadata": {},
   "outputs": [],
   "source": []
  }
 ],
 "metadata": {
  "colab": {
   "authorship_tag": "ABX9TyMScuKEMTZVeP8PKJZ3IF6e",
   "include_colab_link": true,
   "provenance": []
  },
  "kernelspec": {
   "display_name": "Python 3 (ipykernel)",
   "language": "python",
   "name": "python3"
  },
  "language_info": {
   "codemirror_mode": {
    "name": "ipython",
    "version": 3
   },
   "file_extension": ".py",
   "mimetype": "text/x-python",
   "name": "python",
   "nbconvert_exporter": "python",
   "pygments_lexer": "ipython3",
   "version": "3.10.9"
  }
 },
 "nbformat": 4,
 "nbformat_minor": 4
}
